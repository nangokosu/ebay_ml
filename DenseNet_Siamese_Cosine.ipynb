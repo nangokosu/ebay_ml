{
  "nbformat": 4,
  "nbformat_minor": 0,
  "metadata": {
    "colab": {
      "name": "DenseNet Siamese Cosine.ipynb",
      "provenance": [],
      "collapsed_sections": [],
      "include_colab_link": true
    },
    "kernelspec": {
      "name": "python3",
      "display_name": "Python 3"
    },
    "accelerator": "TPU"
  },
  "cells": [
    {
      "cell_type": "markdown",
      "metadata": {
        "id": "view-in-github",
        "colab_type": "text"
      },
      "source": [
        "<a href=\"https://colab.research.google.com/github/nangokosu/ebay_ml/blob/main/DenseNet_Siamese_Cosine.ipynb\" target=\"_parent\"><img src=\"https://colab.research.google.com/assets/colab-badge.svg\" alt=\"Open In Colab\"/></a>"
      ]
    },
    {
      "cell_type": "code",
      "metadata": {
        "id": "Q9yWXHRyP9SV"
      },
      "source": [
        "import keras\n",
        "from keras.layers import *\n",
        "import numpy as np\n",
        "import tensorflow_addons as tfa\n",
        "import seaborn as sns\n",
        "import matplotlib.pyplot as plt\n",
        "import pandas as pd\n",
        "from skimage import color,data,transform,filters,util,restoration\n",
        "import tensorflow as tf"
      ],
      "execution_count": null,
      "outputs": []
    },
    {
      "cell_type": "code",
      "metadata": {
        "id": "DPwbgTlZQXP3"
      },
      "source": [
        "from keras.models import Model"
      ],
      "execution_count": null,
      "outputs": []
    },
    {
      "cell_type": "code",
      "metadata": {
        "id": "hdExWFtuQaSM"
      },
      "source": [
        "import tensorflow.keras.backend as K\n",
        "\n",
        "def squeeze_excite_block(tensor, ratio=16):\n",
        "    init = tensor\n",
        "    channel_axis = 1 if K.image_data_format() == \"channels_first\" else -1\n",
        "    filters = init.shape[channel_axis]\n",
        "    se_shape = (1, 1, filters)\n",
        "    se = GlobalAveragePooling2D()(init)\n",
        "    se = Reshape(se_shape)(se)\n",
        "    se = Dense(filters // ratio, activation='relu', kernel_initializer='he_normal', use_bias=False)(se)\n",
        "    se = Dense(filters, activation='sigmoid', kernel_initializer='he_normal', use_bias=False)(se)\n",
        "    if K.image_data_format() == 'channels_first':\n",
        "        se = Permute((3, 1, 2))(se)\n",
        "    x = Multiply()([init, se])\n",
        "    return x"
      ],
      "execution_count": null,
      "outputs": []
    },
    {
      "cell_type": "code",
      "metadata": {
        "id": "xkN_34OWQdD2"
      },
      "source": [
        "def create_encoder(input_shape):\n",
        "  inputs=Input(shape=input_shape)\n",
        "  resnet = keras.applications.DenseNet169(\n",
        "        include_top=False, weights='imagenet', input_tensor=inputs, pooling=None\n",
        "    )\n",
        "  resnet.trainable=False\n",
        "  outputs=squeeze_excite_block(resnet.output,ratio=16)\n",
        "  outputs=GlobalAveragePooling2D()(outputs)\n",
        "  outputs=Dropout(0.2)(outputs)\n",
        "  outputs=Dense(120,activation=\"relu\")(outputs)\n",
        "  outputs=Dense(50,use_bias=False)(outputs)\n",
        "  #outputs=BatchNormalization()(outputs)\n",
        "  model = Model(\n",
        "      inputs=inputs, outputs=outputs, name='encoder'\n",
        "    )\n",
        "  return model"
      ],
      "execution_count": null,
      "outputs": []
    },
    {
      "cell_type": "code",
      "metadata": {
        "id": "XpJNgL3GQw0R",
        "colab": {
          "base_uri": "https://localhost:8080/"
        },
        "outputId": "67b945a4-9c28-432c-987e-6f6fe1b9f7c6"
      },
      "source": [
        "input_shape=(32,32,3)\n",
        "encoder=create_encoder(input_shape)\n",
        "input_1=Input(shape=(32,32,3))\n",
        "input_2=Input(shape=(32,32,3))"
      ],
      "execution_count": null,
      "outputs": [
        {
          "output_type": "stream",
          "text": [
            "Downloading data from https://storage.googleapis.com/tensorflow/keras-applications/densenet/densenet169_weights_tf_dim_ordering_tf_kernels_notop.h5\n",
            "51879936/51877672 [==============================] - 2s 0us/step\n"
          ],
          "name": "stdout"
        }
      ]
    },
    {
      "cell_type": "code",
      "metadata": {
        "id": "TStCX1LUzU9P"
      },
      "source": [
        "# ONLY APPLIES FOR RETRAINING\n",
        "# encoder=tf.keras.load_model(\"/content/drive/Shareddrives/eBay ML/DenseNet__siamese_Encoder)"
      ],
      "execution_count": null,
      "outputs": []
    },
    {
      "cell_type": "code",
      "metadata": {
        "id": "xPc5RzDuzyUa"
      },
      "source": [
        "encoded_1=encoder(input_1)\n",
        "encoded_2=encoder(input_2)"
      ],
      "execution_count": null,
      "outputs": []
    },
    {
      "cell_type": "code",
      "metadata": {
        "id": "sLfUzPgHSVVX"
      },
      "source": [
        "def cosine_distance(encoded_no1,encoded_no2):\n",
        "  predicted_sim=Dot(axes=1,normalize=True)([encoded_1,encoded_2])\n",
        "  return predicted_sim"
      ],
      "execution_count": null,
      "outputs": []
    },
    {
      "cell_type": "code",
      "metadata": {
        "id": "Vyl41278SfcA"
      },
      "source": [
        "predicted_sim=cosine_distance(encoded_1,encoded_2)\n",
        "sim_model=Model([input_1,input_2],predicted_sim)"
      ],
      "execution_count": null,
      "outputs": []
    },
    {
      "cell_type": "code",
      "metadata": {
        "id": "SZCrJ9qBRyUR",
        "colab": {
          "base_uri": "https://localhost:8080/"
        },
        "outputId": "08c157c9-5a8a-49ed-ac48-4c5cf18a53dc"
      },
      "source": [
        "sim_model.summary()"
      ],
      "execution_count": null,
      "outputs": [
        {
          "output_type": "stream",
          "text": [
            "Model: \"model\"\n",
            "__________________________________________________________________________________________________\n",
            "Layer (type)                    Output Shape         Param #     Connected to                     \n",
            "==================================================================================================\n",
            "input_2 (InputLayer)            [(None, 32, 32, 3)]  0                                            \n",
            "__________________________________________________________________________________________________\n",
            "input_3 (InputLayer)            [(None, 32, 32, 3)]  0                                            \n",
            "__________________________________________________________________________________________________\n",
            "encoder (Functional)            (None, 50)           13194792    input_2[0][0]                    \n",
            "                                                                 input_3[0][0]                    \n",
            "__________________________________________________________________________________________________\n",
            "dot (Dot)                       (None, 1)            0           encoder[0][0]                    \n",
            "                                                                 encoder[1][0]                    \n",
            "==================================================================================================\n",
            "Total params: 13,194,792\n",
            "Trainable params: 551,912\n",
            "Non-trainable params: 12,642,880\n",
            "__________________________________________________________________________________________________\n"
          ],
          "name": "stdout"
        }
      ]
    },
    {
      "cell_type": "code",
      "metadata": {
        "id": "0KXml_MuS900"
      },
      "source": [
        "lrplateau1=tf.keras.callbacks.ReduceLROnPlateau(monitor='val_loss',factor=0.20,patience=8)"
      ],
      "execution_count": null,
      "outputs": []
    },
    {
      "cell_type": "code",
      "metadata": {
        "id": "oUjqa6QuTBw2"
      },
      "source": [
        "modelCheckpoint=tf.keras.callbacks.ModelCheckpoint('/content/drive/Shareddrives/eBay ML/DenseNet_Res_Cosine',save_best_only=True)\n",
        "# might be saved in own drive right now, check to be sure"
      ],
      "execution_count": null,
      "outputs": []
    },
    {
      "cell_type": "code",
      "metadata": {
        "id": "V8-YBidKi6Rz"
      },
      "source": [
        "early_stop=tf.keras.callbacks.EarlyStopping(patience=10,restore_best_weights=True)"
      ],
      "execution_count": null,
      "outputs": []
    },
    {
      "cell_type": "code",
      "metadata": {
        "id": "mGtbXd7QS5x-"
      },
      "source": [
        "sim_model.compile(optimizer=\"Adam\",loss=\"mean_squared_error\")"
      ],
      "execution_count": null,
      "outputs": []
    },
    {
      "cell_type": "code",
      "metadata": {
        "id": "psFokOmKTOR2"
      },
      "source": [
        "from keras.applications.densenet import preprocess_input"
      ],
      "execution_count": null,
      "outputs": []
    },
    {
      "cell_type": "code",
      "metadata": {
        "colab": {
          "base_uri": "https://localhost:8080/"
        },
        "id": "mionuR3pVIGu",
        "outputId": "8fe34eae-6048-4b81-fc9e-8ef48dfe450a"
      },
      "source": [
        "from google.colab import drive\n",
        "drive.mount('/content/drive')"
      ],
      "execution_count": null,
      "outputs": [
        {
          "output_type": "stream",
          "text": [
            "Mounted at /content/drive\n"
          ],
          "name": "stdout"
        }
      ]
    },
    {
      "cell_type": "code",
      "metadata": {
        "id": "2gDNN-UPTT6F"
      },
      "source": [
        "df = pd.read_pickle(\"/content/drive/Shareddrives/eBay ML/normalized_df_pairs_balanced.pkl\")\n",
        "length = df.shape[0]\n",
        "df = df.iloc[2*length // 4: 3 * length // 4]\n",
        "#df.head()\n",
        "##df[\"image\"]=df.input_tup.apply(lambda x: x[0])\n",
        "#df['label']=df.input_tup.apply(lambda x: x[1])\n",
        "#labels=pd.get_dummies(df.label)\n",
        "# -1 is not similar"
      ],
      "execution_count": null,
      "outputs": []
    },
    {
      "cell_type": "code",
      "metadata": {
        "id": "pHVQVQluT_rw"
      },
      "source": [
        "image_1=preprocess_input(np.stack(df[\"image_1\"]))"
      ],
      "execution_count": null,
      "outputs": []
    },
    {
      "cell_type": "code",
      "metadata": {
        "id": "DZgD5nywUAWd"
      },
      "source": [
        "image_2=preprocess_input(np.stack(df[\"image_2\"]))"
      ],
      "execution_count": null,
      "outputs": []
    },
    {
      "cell_type": "code",
      "metadata": {
        "id": "5XKxdgXYUIa9",
        "colab": {
          "base_uri": "https://localhost:8080/"
        },
        "outputId": "f438c277-41a2-40a1-f3e7-e697a503d4dd"
      },
      "source": [
        "sim_model.fit([image_1,image_2],df.similarity.values,validation_split=0.10,epochs=60,batch_size=64,callbacks=[lrplateau1,modelCheckpoint,early_stop])"
      ],
      "execution_count": null,
      "outputs": [
        {
          "output_type": "stream",
          "text": [
            "Epoch 1/60\n",
            "1387/1387 [==============================] - 629s 442ms/step - loss: 0.8214 - val_loss: 0.9052\n",
            "INFO:tensorflow:Assets written to: /content/drive/Shareddrives/eBay ML/DenseNet_Res_Cosine/assets\n",
            "Epoch 2/60\n",
            "1387/1387 [==============================] - 609s 439ms/step - loss: 0.7708 - val_loss: 0.9011\n",
            "INFO:tensorflow:Assets written to: /content/drive/Shareddrives/eBay ML/DenseNet_Res_Cosine/assets\n",
            "Epoch 3/60\n",
            "1387/1387 [==============================] - 614s 443ms/step - loss: 0.7543 - val_loss: 0.8993\n",
            "INFO:tensorflow:Assets written to: /content/drive/Shareddrives/eBay ML/DenseNet_Res_Cosine/assets\n",
            "Epoch 4/60\n",
            "1387/1387 [==============================] - 614s 443ms/step - loss: 0.7460 - val_loss: 0.8955\n",
            "INFO:tensorflow:Assets written to: /content/drive/Shareddrives/eBay ML/DenseNet_Res_Cosine/assets\n",
            "Epoch 5/60\n",
            "1387/1387 [==============================] - 616s 444ms/step - loss: 0.7304 - val_loss: 0.9038\n",
            "Epoch 6/60\n",
            "1387/1387 [==============================] - 614s 443ms/step - loss: 0.7171 - val_loss: 0.9094\n",
            "Epoch 7/60\n",
            "1387/1387 [==============================] - 612s 441ms/step - loss: 0.7113 - val_loss: 0.9241\n",
            "Epoch 8/60\n",
            "1387/1387 [==============================] - 614s 443ms/step - loss: 0.7013 - val_loss: 0.9153\n",
            "Epoch 9/60\n",
            "1387/1387 [==============================] - 623s 449ms/step - loss: 0.6836 - val_loss: 0.9100\n",
            "Epoch 10/60\n",
            "1387/1387 [==============================] - 620s 447ms/step - loss: 0.6716 - val_loss: 0.9217\n",
            "Epoch 11/60\n",
            "1387/1387 [==============================] - 615s 443ms/step - loss: 0.6626 - val_loss: 0.9275\n",
            "Epoch 12/60\n",
            "1387/1387 [==============================] - 617s 445ms/step - loss: 0.6463 - val_loss: 0.9331\n",
            "Epoch 13/60\n",
            "1387/1387 [==============================] - 622s 449ms/step - loss: 0.6240 - val_loss: 0.9313\n",
            "Epoch 14/60\n",
            "1387/1387 [==============================] - 626s 452ms/step - loss: 0.6161 - val_loss: 0.9345\n"
          ],
          "name": "stdout"
        },
        {
          "output_type": "execute_result",
          "data": {
            "text/plain": [
              "<tensorflow.python.keras.callbacks.History at 0x7fec75f51400>"
            ]
          },
          "metadata": {
            "tags": []
          },
          "execution_count": 19
        }
      ]
    },
    {
      "cell_type": "code",
      "metadata": {
        "id": "AISAcZc4W0ya",
        "colab": {
          "base_uri": "https://localhost:8080/"
        },
        "outputId": "935f100f-7b97-4791-f6bd-47f839a2c81d"
      },
      "source": [
        "tf.keras.models.save_model(encoder,\"/content/drive/Shareddrives/eBay ML/DenseNet__siamese_Encoder\")"
      ],
      "execution_count": null,
      "outputs": [
        {
          "output_type": "stream",
          "text": [
            "INFO:tensorflow:Assets written to: /content/drive/Shareddrives/eBay ML/DenseNet__siamese_Encoder/assets\n"
          ],
          "name": "stdout"
        }
      ]
    }
  ]
}