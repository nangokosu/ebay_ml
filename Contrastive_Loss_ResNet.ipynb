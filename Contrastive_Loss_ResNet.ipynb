{
  "nbformat": 4,
  "nbformat_minor": 0,
  "metadata": {
    "colab": {
      "name": "Contrastive Loss ResNet",
      "provenance": [],
      "collapsed_sections": [],
      "include_colab_link": true
    },
    "kernelspec": {
      "name": "python3",
      "display_name": "Python 3"
    }
  },
  "cells": [
    {
      "cell_type": "markdown",
      "metadata": {
        "id": "view-in-github",
        "colab_type": "text"
      },
      "source": [
        "<a href=\"https://colab.research.google.com/github/nangokosu/ebay_ml/blob/main/Contrastive_Loss_ResNet.ipynb\" target=\"_parent\"><img src=\"https://colab.research.google.com/assets/colab-badge.svg\" alt=\"Open In Colab\"/></a>"
      ]
    },
    {
      "cell_type": "code",
      "metadata": {
        "id": "TvD5X843bHx4"
      },
      "source": [
        "import keras\n",
        "from keras.layers import *\n",
        "import numpy as np\n",
        "import tensorflow_addons as tfa\n",
        "import seaborn as sns\n",
        "import matplotlib.pyplot as plt\n",
        "import pandas as pd\n",
        "from skimage import color,data,transform,filters,util,restoration\n",
        "import tensorflow as tf"
      ],
      "execution_count": null,
      "outputs": []
    },
    {
      "cell_type": "code",
      "metadata": {
        "id": "zeF88DC5bxAq"
      },
      "source": [
        "from keras.models import Model"
      ],
      "execution_count": null,
      "outputs": []
    },
    {
      "cell_type": "code",
      "metadata": {
        "id": "N93_V9__b1Nu"
      },
      "source": [
        "import tensorflow.keras.backend as K\n",
        "\n",
        "def squeeze_excite_block(tensor, ratio=16):\n",
        "    init = tensor\n",
        "    channel_axis = 1 if K.image_data_format() == \"channels_first\" else -1\n",
        "    filters = init.shape[channel_axis]\n",
        "    se_shape = (1, 1, filters)\n",
        "    se = GlobalAveragePooling2D()(init)\n",
        "    se = Reshape(se_shape)(se)\n",
        "    se = Dense(filters // ratio, activation='relu', kernel_initializer='he_normal', use_bias=False)(se)\n",
        "    se = Dense(filters, activation='sigmoid', kernel_initializer='he_normal', use_bias=False)(se)\n",
        "    if K.image_data_format() == 'channels_first':\n",
        "        se = Permute((3, 1, 2))(se)\n",
        "    x = Multiply()([init, se])\n",
        "    return x"
      ],
      "execution_count": null,
      "outputs": []
    },
    {
      "cell_type": "code",
      "metadata": {
        "id": "D5CbzWN8asZK"
      },
      "source": [
        "def euclidean_distance(vects):\n",
        "    x, y = vects\n",
        "    sum_square = K.sum(K.square(x - y), axis=1, keepdims=True)\n",
        "    return K.sqrt(K.maximum(sum_square, K.epsilon()))"
      ],
      "execution_count": null,
      "outputs": []
    },
    {
      "cell_type": "code",
      "metadata": {
        "id": "n2mf17CnbCLT"
      },
      "source": [
        "def create_encoder(input_shape):\n",
        "  inputs=Input(shape=input_shape)\n",
        "  resnet = keras.applications.ResNet101V2(\n",
        "        include_top=False, weights='imagenet', input_tensor=inputs, pooling=None\n",
        "    )\n",
        "  resnet.trainable=False\n",
        "  #for layer in resnet.layers[-1:-5]:\n",
        "    #layer.trainable=True\n",
        "  outputs=squeeze_excite_block(resnet.output,ratio=16)\n",
        "  outputs=GlobalAveragePooling2D()(outputs)\n",
        "  outputs=Dropout(0.2)(outputs)\n",
        "  outputs=Dense(120)(outputs)\n",
        "  outputs=Dense(50,use_bias=False)(outputs)\n",
        "  #outputs=BatchNormalization()(outputs)\n",
        "  model = Model(\n",
        "      inputs=inputs, outputs=outputs, name='encoder'\n",
        "    )\n",
        "  return model"
      ],
      "execution_count": null,
      "outputs": []
    },
    {
      "cell_type": "code",
      "metadata": {
        "id": "hX2EdfXxcYpN"
      },
      "source": [
        "def eucl_dist_output_shape(shapes):\n",
        "    shape1, shape2 = shapes\n",
        "    return (shape1[0], 1)"
      ],
      "execution_count": null,
      "outputs": []
    },
    {
      "cell_type": "code",
      "metadata": {
        "id": "mFHb3hrKcQPa"
      },
      "source": [
        "input_shape=(32,32,3)\n",
        "encoder=create_encoder(input_shape)\n",
        "input_1=Input(shape=(32,32,3))\n",
        "input_2=Input(shape=(32,32,3))"
      ],
      "execution_count": null,
      "outputs": []
    },
    {
      "cell_type": "code",
      "metadata": {
        "id": "MlpgrYQ-cmZI"
      },
      "source": [
        "def euclid_process(encoded_a,encoded_b):\n",
        "  distance = Lambda(euclidean_distance,output_shape=eucl_dist_output_shape)([encoded_a, encoded_b])\n",
        "  return distance"
      ],
      "execution_count": null,
      "outputs": []
    },
    {
      "cell_type": "code",
      "metadata": {
        "id": "OUbFwDEju-L2"
      },
      "source": [
        "# ONLY APPLY IF RETRAINING\n",
        "# encoder=tf.keras.models.load_model('/content/drive/Shareddrives/eBay ML/contrastive_resnet_encoder')\n",
        "# for layer in encoder.layers[:-11]:\n",
        "#  layer.trainable=False"
      ],
      "execution_count": null,
      "outputs": []
    },
    {
      "cell_type": "code",
      "metadata": {
        "id": "zmpcVjvAyQPO"
      },
      "source": [
        "encoded_1=encoder(input_1)\n",
        "encoded_2=encoder(input_2)"
      ],
      "execution_count": null,
      "outputs": []
    },
    {
      "cell_type": "code",
      "metadata": {
        "id": "fIOwNAkG1hyM"
      },
      "source": [
        "normalize_1=Lambda(lambda x: K.l2_normalize(x, axis=1))(encoded_1)\n",
        "normalize_2=Lambda(lambda x: K.l2_normalize(x, axis=1))(encoded_2)"
      ],
      "execution_count": null,
      "outputs": []
    },
    {
      "cell_type": "code",
      "metadata": {
        "id": "LPhYr5hldCf9"
      },
      "source": [
        "euclid_dist=euclid_process(normalize_1,normalize_2)\n",
        "euclid_model=Model([input_1,input_2],euclid_dist)"
      ],
      "execution_count": null,
      "outputs": []
    },
    {
      "cell_type": "code",
      "metadata": {
        "id": "Wzg2JDnsayFM"
      },
      "source": [
        "def contrastive_loss(y_true, y_pred):\n",
        "    '''Contrastive loss from Hadsell-et-al.'06\n",
        "    http://yann.lecun.com/exdb/publis/pdf/hadsell-chopra-lecun-06.pdf\n",
        "    '''\n",
        "    margin = 0\n",
        "    y_pred = tf.convert_to_tensor(y_pred)\n",
        "    y_true = tf.dtypes.cast(y_true, y_pred.dtype)\n",
        "    square_pred = K.square(y_pred)\n",
        "    margin_square = K.square(K.maximum(margin - y_pred, 0))\n",
        "    return K.mean(y_true * square_pred + (1 - y_true) * margin_square)"
      ],
      "execution_count": null,
      "outputs": []
    },
    {
      "cell_type": "code",
      "metadata": {
        "id": "HYll1KSmdFya"
      },
      "source": [
        "loss=tfa.losses.ContrastiveLoss(margin=2**0.5)  # margin is between 0-2. \n",
        "euclid_model.compile(optimizer=\"Adam\",loss=loss)"
      ],
      "execution_count": null,
      "outputs": []
    },
    {
      "cell_type": "code",
      "metadata": {
        "id": "hMLdHZULfhnk"
      },
      "source": [
        "lrplateau1=tf.keras.callbacks.ReduceLROnPlateau(monitor='val_loss',factor=0.20,patience=8)\n",
        "modelCheckpoint=tf.keras.callbacks.ModelCheckpoint('/content/drive/Shareddrives/eBay ML/contrastive_resnet',save_best_only=True)\n",
        "early_stop=tf.keras.callbacks.EarlyStopping(patience=10,restore_best_weights=True)"
      ],
      "execution_count": null,
      "outputs": []
    },
    {
      "cell_type": "code",
      "metadata": {
        "id": "H9ewN-wOgEet"
      },
      "source": [
        "df = pd.read_pickle(\"/content/drive/Shareddrives/eBay ML/normalized_df_pairs_balanced.pkl\")\n",
        "length = df.shape[0]\n",
        "df = df.iloc[length // 4:2*length // 4]\n",
        "df[\"similarity2\"]=df.similarity.apply(lambda x:0 if x==-1 else 1).astype('int')"
      ],
      "execution_count": null,
      "outputs": []
    },
    {
      "cell_type": "code",
      "metadata": {
        "id": "iPuYc_FNhBwx"
      },
      "source": [
        "from keras.applications.resnet import preprocess_input\n",
        "image_1=preprocess_input(np.stack(df[\"image_1\"]))\n",
        "image_2=preprocess_input(np.stack(df[\"image_1\"]))"
      ],
      "execution_count": null,
      "outputs": []
    },
    {
      "cell_type": "code",
      "metadata": {
        "colab": {
          "base_uri": "https://localhost:8080/"
        },
        "id": "eot2t41Lho9T",
        "outputId": "55815941-56bf-4cdb-bab5-951834f6c704"
      },
      "source": [
        "euclid_model.fit([image_1,image_2],df.similarity2,callbacks=[lrplateau1,modelCheckpoint,early_stop],epochs=50,validation_split=0.10,batch_size=128)"
      ],
      "execution_count": null,
      "outputs": [
        {
          "output_type": "stream",
          "text": [
            "Epoch 1/50\n",
            "694/694 [==============================] - 998s 1s/step - loss: 0.5196 - val_loss: 0.9935\n",
            "INFO:tensorflow:Assets written to: /content/drive/Shareddrives/eBay ML/contrastive_resnet/assets\n",
            "Epoch 2/50\n",
            "694/694 [==============================] - 977s 1s/step - loss: 0.5133 - val_loss: 0.9935\n",
            "Epoch 3/50\n",
            "694/694 [==============================] - 1004s 1s/step - loss: 0.5126 - val_loss: 0.9935\n",
            "Epoch 4/50\n",
            "694/694 [==============================] - 1007s 1s/step - loss: 0.5117 - val_loss: 0.9935\n",
            "Epoch 5/50\n",
            "694/694 [==============================] - 1010s 1s/step - loss: 0.5116 - val_loss: 0.9935\n",
            "Epoch 6/50\n",
            "694/694 [==============================] - 1007s 1s/step - loss: 0.5100 - val_loss: 0.9935\n",
            "Epoch 7/50\n",
            "694/694 [==============================] - 1009s 1s/step - loss: 0.5115 - val_loss: 0.9935\n",
            "Epoch 8/50\n",
            "694/694 [==============================] - 1011s 1s/step - loss: 0.5102 - val_loss: 0.9935\n",
            "Epoch 9/50\n",
            "694/694 [==============================] - 1011s 1s/step - loss: 0.5101 - val_loss: 0.9935\n",
            "Epoch 10/50\n",
            "694/694 [==============================] - 1010s 1s/step - loss: 0.5088 - val_loss: 0.9935\n",
            "Epoch 11/50\n",
            "694/694 [==============================] - 1008s 1s/step - loss: 0.5085 - val_loss: 0.9935\n"
          ],
          "name": "stdout"
        },
        {
          "output_type": "execute_result",
          "data": {
            "text/plain": [
              "<tensorflow.python.keras.callbacks.History at 0x7f23f7521860>"
            ]
          },
          "metadata": {
            "tags": []
          },
          "execution_count": 18
        }
      ]
    },
    {
      "cell_type": "code",
      "metadata": {
        "id": "o271ljUgknKW",
        "colab": {
          "base_uri": "https://localhost:8080/"
        },
        "outputId": "6cc1592d-33f0-4bc4-b4c2-512ef2e004b1"
      },
      "source": [
        "tf.keras.models.save_model(encoder,\"/content/drive/Shareddrives/eBay ML/contrastive_resnet_encoder\")"
      ],
      "execution_count": null,
      "outputs": [
        {
          "output_type": "stream",
          "text": [
            "INFO:tensorflow:Assets written to: /content/drive/Shareddrives/eBay ML/contrastive_resnet_encoder/assets\n"
          ],
          "name": "stdout"
        }
      ]
    },
    {
      "cell_type": "code",
      "metadata": {
        "colab": {
          "base_uri": "https://localhost:8080/"
        },
        "id": "7Ehfg4wFkWmr",
        "outputId": "48200a7a-0fe3-4b3e-e8e3-55bed29dd8e5"
      },
      "source": [
        "from google.colab import drive\n",
        "drive.mount('/content/drive')"
      ],
      "execution_count": null,
      "outputs": [
        {
          "output_type": "stream",
          "text": [
            "Mounted at /content/drive\n"
          ],
          "name": "stdout"
        }
      ]
    },
    {
      "cell_type": "code",
      "metadata": {
        "id": "cJDfKx0mCiIB"
      },
      "source": [
        ""
      ],
      "execution_count": null,
      "outputs": []
    }
  ]
}