{
  "nbformat": 4,
  "nbformat_minor": 0,
  "metadata": {
    "colab": {
      "name": "EfficientNet Hard Triple",
      "provenance": [],
      "collapsed_sections": [],
      "include_colab_link": true
    },
    "kernelspec": {
      "name": "python3",
      "display_name": "Python 3"
    },
    "accelerator": "GPU"
  },
  "cells": [
    {
      "cell_type": "markdown",
      "metadata": {
        "id": "view-in-github",
        "colab_type": "text"
      },
      "source": [
        "<a href=\"https://colab.research.google.com/github/nangokosu/ebay_ml/blob/main/EfficientNet_Hard_Triple.ipynb\" target=\"_parent\"><img src=\"https://colab.research.google.com/assets/colab-badge.svg\" alt=\"Open In Colab\"/></a>"
      ]
    },
    {
      "cell_type": "code",
      "metadata": {
        "id": "wQCm_xy_7VUd"
      },
      "source": [
        "import keras\n",
        "from keras.layers import *\n",
        "import numpy as np\n",
        "import tensorflow_addons as tfa\n",
        "import seaborn as sns\n",
        "import matplotlib.pyplot as plt\n",
        "import pandas as pd\n",
        "from skimage import color,data,transform,filters,util,restoration\n",
        "import tensorflow as tf"
      ],
      "execution_count": null,
      "outputs": []
    },
    {
      "cell_type": "code",
      "metadata": {
        "colab": {
          "base_uri": "https://localhost:8080/"
        },
        "id": "PTkN3A96FFS8",
        "outputId": "0d2c0ca3-8847-4471-83b9-40ca1a7ae043"
      },
      "source": [
        "from google.colab import drive\n",
        "drive.mount('/content/drive')"
      ],
      "execution_count": null,
      "outputs": [
        {
          "output_type": "stream",
          "text": [
            "Mounted at /content/drive\n"
          ],
          "name": "stdout"
        }
      ]
    },
    {
      "cell_type": "code",
      "metadata": {
        "colab": {
          "base_uri": "https://localhost:8080/"
        },
        "id": "FNW6j_k9iamn",
        "outputId": "bb3c82c8-af32-4382-f56f-ab780fb4287b"
      },
      "source": [
        "!pip install efficientnet"
      ],
      "execution_count": null,
      "outputs": [
        {
          "output_type": "stream",
          "text": [
            "Collecting efficientnet\n",
            "  Downloading https://files.pythonhosted.org/packages/53/97/84f88e581d6ac86dcf1ab347c497c4c568c38784e3a2bd659b96912ab793/efficientnet-1.1.1-py3-none-any.whl\n",
            "Collecting keras-applications<=1.0.8,>=1.0.7\n",
            "\u001b[?25l  Downloading https://files.pythonhosted.org/packages/71/e3/19762fdfc62877ae9102edf6342d71b28fbfd9dea3d2f96a882ce099b03f/Keras_Applications-1.0.8-py3-none-any.whl (50kB)\n",
            "\u001b[K     |████████████████████████████████| 51kB 4.9MB/s \n",
            "\u001b[?25hRequirement already satisfied: scikit-image in /usr/local/lib/python3.6/dist-packages (from efficientnet) (0.16.2)\n",
            "Requirement already satisfied: numpy>=1.9.1 in /usr/local/lib/python3.6/dist-packages (from keras-applications<=1.0.8,>=1.0.7->efficientnet) (1.19.5)\n",
            "Requirement already satisfied: h5py in /usr/local/lib/python3.6/dist-packages (from keras-applications<=1.0.8,>=1.0.7->efficientnet) (2.10.0)\n",
            "Requirement already satisfied: imageio>=2.3.0 in /usr/local/lib/python3.6/dist-packages (from scikit-image->efficientnet) (2.4.1)\n",
            "Requirement already satisfied: matplotlib!=3.0.0,>=2.0.0 in /usr/local/lib/python3.6/dist-packages (from scikit-image->efficientnet) (3.2.2)\n",
            "Requirement already satisfied: PyWavelets>=0.4.0 in /usr/local/lib/python3.6/dist-packages (from scikit-image->efficientnet) (1.1.1)\n",
            "Requirement already satisfied: scipy>=0.19.0 in /usr/local/lib/python3.6/dist-packages (from scikit-image->efficientnet) (1.4.1)\n",
            "Requirement already satisfied: networkx>=2.0 in /usr/local/lib/python3.6/dist-packages (from scikit-image->efficientnet) (2.5)\n",
            "Requirement already satisfied: pillow>=4.3.0 in /usr/local/lib/python3.6/dist-packages (from scikit-image->efficientnet) (7.0.0)\n",
            "Requirement already satisfied: six in /usr/local/lib/python3.6/dist-packages (from h5py->keras-applications<=1.0.8,>=1.0.7->efficientnet) (1.15.0)\n",
            "Requirement already satisfied: kiwisolver>=1.0.1 in /usr/local/lib/python3.6/dist-packages (from matplotlib!=3.0.0,>=2.0.0->scikit-image->efficientnet) (1.3.1)\n",
            "Requirement already satisfied: cycler>=0.10 in /usr/local/lib/python3.6/dist-packages (from matplotlib!=3.0.0,>=2.0.0->scikit-image->efficientnet) (0.10.0)\n",
            "Requirement already satisfied: python-dateutil>=2.1 in /usr/local/lib/python3.6/dist-packages (from matplotlib!=3.0.0,>=2.0.0->scikit-image->efficientnet) (2.8.1)\n",
            "Requirement already satisfied: pyparsing!=2.0.4,!=2.1.2,!=2.1.6,>=2.0.1 in /usr/local/lib/python3.6/dist-packages (from matplotlib!=3.0.0,>=2.0.0->scikit-image->efficientnet) (2.4.7)\n",
            "Requirement already satisfied: decorator>=4.3.0 in /usr/local/lib/python3.6/dist-packages (from networkx>=2.0->scikit-image->efficientnet) (4.4.2)\n",
            "Installing collected packages: keras-applications, efficientnet\n",
            "Successfully installed efficientnet-1.1.1 keras-applications-1.0.8\n"
          ],
          "name": "stdout"
        }
      ]
    },
    {
      "cell_type": "code",
      "metadata": {
        "id": "CfPTMLUl75ks"
      },
      "source": [
        "import efficientnet.keras as efn "
      ],
      "execution_count": null,
      "outputs": []
    },
    {
      "cell_type": "code",
      "metadata": {
        "id": "OKHbN75a8Kq9"
      },
      "source": [
        "def create_encoder(input_shape):\n",
        "  inputs=Input(shape=input_shape)\n",
        "  enet=efn.EfficientNetB1(include_top=False,weights=None,input_shape=(32,32,3),pooling=None)\n",
        "  outputs=enet(inputs)\n",
        "  outputs=GlobalAveragePooling2D()(outputs)\n",
        "  model=keras.models.Model(inputs,outputs)\n",
        "  return model"
      ],
      "execution_count": null,
      "outputs": []
    },
    {
      "cell_type": "code",
      "metadata": {
        "id": "bThU54JSkS8U"
      },
      "source": [
        "import tensorflow.keras.backend as K\n",
        "input=Input(shape=(32,32,3))\n",
        "encoder=create_encoder((32,32,3))\n",
        "encoded=encoder(input)\n",
        "normalize_1=Lambda(lambda x: K.l2_normalize(x, axis=1))(encoded)\n",
        "model=keras.models.Model(input,normalize_1)"
      ],
      "execution_count": null,
      "outputs": []
    },
    {
      "cell_type": "code",
      "metadata": {
        "id": "ZRFTW1Hq_AV0"
      },
      "source": [
        "# Only run this if you are RETRAINING a model.\n",
        "model=tf.keras.models.load_model(\"/content/drive/Shareddrives/eBay ML/EfficientNet_Triple_Hard\",compile=True)"
      ],
      "execution_count": null,
      "outputs": []
    },
    {
      "cell_type": "code",
      "metadata": {
        "colab": {
          "base_uri": "https://localhost:8080/"
        },
        "id": "kaag_sznPn32",
        "outputId": "4c713b93-4714-4cbf-d755-ab83d0334d0d"
      },
      "source": [
        "model.summary()"
      ],
      "execution_count": null,
      "outputs": [
        {
          "output_type": "stream",
          "text": [
            "Model: \"model_2\"\n",
            "_________________________________________________________________\n",
            "Layer (type)                 Output Shape              Param #   \n",
            "=================================================================\n",
            "input_4 (InputLayer)         [(None, 32, 32, 3)]       0         \n",
            "_________________________________________________________________\n",
            "model_1 (Functional)         (None, 1280)              6575232   \n",
            "_________________________________________________________________\n",
            "lambda_1 (Lambda)            (None, 1280)              0         \n",
            "=================================================================\n",
            "Total params: 6,575,232\n",
            "Trainable params: 6,513,184\n",
            "Non-trainable params: 62,048\n",
            "_________________________________________________________________\n"
          ],
          "name": "stdout"
        }
      ]
    },
    {
      "cell_type": "code",
      "metadata": {
        "id": "b1zqHyWT_IHs"
      },
      "source": [
        "#vector_image=create_encoder((32,32,3))"
      ],
      "execution_count": null,
      "outputs": []
    },
    {
      "cell_type": "code",
      "metadata": {
        "id": "HZuhm3Cj-N9b"
      },
      "source": [
        "loss=tfa.losses.TripletHardLoss(margin=1)\n",
        "model.compile(loss=loss,optimizer=\"Adam\")"
      ],
      "execution_count": null,
      "outputs": []
    },
    {
      "cell_type": "code",
      "metadata": {
        "id": "kGQWiAP8_37U"
      },
      "source": [
        "df = pd.read_pickle(\"/content/drive/Shareddrives/eBay ML/normalized_df_pairs_balanced.pkl\")\n",
        "length = df.shape[0]\n",
        "df = df.iloc[2*length // 4:3*length // 4]"
      ],
      "execution_count": null,
      "outputs": []
    },
    {
      "cell_type": "code",
      "metadata": {
        "id": "3Lhdmo6p_WWF"
      },
      "source": [
        "image_processed=efn.preprocess_input(np.stack(df[\"image_1\"]))"
      ],
      "execution_count": null,
      "outputs": []
    },
    {
      "cell_type": "code",
      "metadata": {
        "id": "vc0wFydl_lDj"
      },
      "source": [
        "from sklearn.preprocessing import LabelEncoder\n",
        "lbe=LabelEncoder()\n",
        "df[\"label_1_encoded\"]=lbe.fit_transform(df[\"label_1\"])"
      ],
      "execution_count": null,
      "outputs": []
    },
    {
      "cell_type": "code",
      "metadata": {
        "id": "8RNW0kqsi7X7"
      },
      "source": [
        "lrplateau1=tf.keras.callbacks.ReduceLROnPlateau(monitor='val_loss',factor=0.20,patience=8)\n",
        "early_stop=tf.keras.callbacks.EarlyStopping(patience=10,restore_best_weights=True)\n",
        "modelCheckpoint=tf.keras.callbacks.ModelCheckpoint('/content/drive/Shareddrives/eBay ML/EfficientNet_Triple_Hard',save_best_only=True)"
      ],
      "execution_count": null,
      "outputs": []
    },
    {
      "cell_type": "code",
      "metadata": {
        "id": "FYEz7Ekq_ojc",
        "colab": {
          "base_uri": "https://localhost:8080/"
        },
        "outputId": "09c8eec0-83f2-4b0d-8d92-a9210901fb68"
      },
      "source": [
        "model.fit(image_processed,df[\"label_1_encoded\"],validation_split=0.10,epochs=40,batch_size=128,callbacks=[modelCheckpoint,early_stop,lrplateau1])"
      ],
      "execution_count": null,
      "outputs": [
        {
          "output_type": "stream",
          "text": [
            "Epoch 1/40\n",
            "694/694 [==============================] - 62s 62ms/step - loss: 0.1583 - val_loss: 0.5315\n",
            "INFO:tensorflow:Assets written to: /content/drive/Shareddrives/eBay ML/EfficientNet_Triple_Hard/assets\n",
            "Epoch 2/40\n",
            "694/694 [==============================] - 41s 59ms/step - loss: 0.1604 - val_loss: 0.5333\n",
            "Epoch 3/40\n",
            "694/694 [==============================] - 41s 59ms/step - loss: 0.1565 - val_loss: 0.5302\n",
            "INFO:tensorflow:Assets written to: /content/drive/Shareddrives/eBay ML/EfficientNet_Triple_Hard/assets\n",
            "Epoch 4/40\n",
            "694/694 [==============================] - 41s 59ms/step - loss: 0.1580 - val_loss: 0.5313\n",
            "Epoch 5/40\n",
            "694/694 [==============================] - 41s 59ms/step - loss: 0.1548 - val_loss: 0.5285\n",
            "INFO:tensorflow:Assets written to: /content/drive/Shareddrives/eBay ML/EfficientNet_Triple_Hard/assets\n",
            "Epoch 6/40\n",
            "694/694 [==============================] - 41s 60ms/step - loss: 0.1554 - val_loss: 0.5271\n",
            "INFO:tensorflow:Assets written to: /content/drive/Shareddrives/eBay ML/EfficientNet_Triple_Hard/assets\n",
            "Epoch 7/40\n",
            "694/694 [==============================] - 41s 60ms/step - loss: 0.1588 - val_loss: 0.5247\n",
            "INFO:tensorflow:Assets written to: /content/drive/Shareddrives/eBay ML/EfficientNet_Triple_Hard/assets\n",
            "Epoch 8/40\n",
            "694/694 [==============================] - 41s 60ms/step - loss: 0.1591 - val_loss: 0.5253\n",
            "Epoch 9/40\n",
            "694/694 [==============================] - 41s 59ms/step - loss: 0.1587 - val_loss: 0.5253\n",
            "Epoch 10/40\n",
            "694/694 [==============================] - 41s 59ms/step - loss: 0.1554 - val_loss: 0.5251\n",
            "Epoch 11/40\n",
            "694/694 [==============================] - 41s 60ms/step - loss: 0.1594 - val_loss: 0.5278\n",
            "Epoch 12/40\n",
            "694/694 [==============================] - 41s 59ms/step - loss: 0.1576 - val_loss: 0.5272\n",
            "Epoch 13/40\n",
            "694/694 [==============================] - 41s 59ms/step - loss: 0.1577 - val_loss: 0.5289\n",
            "Epoch 14/40\n",
            "694/694 [==============================] - 41s 59ms/step - loss: 0.1593 - val_loss: 0.5269\n",
            "Epoch 15/40\n",
            "694/694 [==============================] - 41s 59ms/step - loss: 0.1579 - val_loss: 0.5277\n",
            "Epoch 16/40\n",
            "694/694 [==============================] - 41s 59ms/step - loss: 0.1584 - val_loss: 0.5277\n",
            "Epoch 17/40\n",
            "694/694 [==============================] - 41s 59ms/step - loss: 0.1573 - val_loss: 0.5278\n"
          ],
          "name": "stdout"
        },
        {
          "output_type": "execute_result",
          "data": {
            "text/plain": [
              "<tensorflow.python.keras.callbacks.History at 0x7fa3af76c470>"
            ]
          },
          "metadata": {
            "tags": []
          },
          "execution_count": 12
        }
      ]
    },
    {
      "cell_type": "code",
      "metadata": {
        "id": "0q7899rTFqiQ",
        "colab": {
          "base_uri": "https://localhost:8080/"
        },
        "outputId": "0551f25b-17c0-4f60-d839-f6c866e26fab"
      },
      "source": [
        "import tensorflow as tf\n",
        "tf.keras.models.save_model(model.layers[1],\"/content/drive/Shareddrives/eBay ML/EfficientNet_TripleHard_encoder\")"
      ],
      "execution_count": null,
      "outputs": [
        {
          "output_type": "stream",
          "text": [
            "INFO:tensorflow:Assets written to: /content/drive/Shareddrives/eBay ML/EfficientNet_TripleHard_encoder/assets\n"
          ],
          "name": "stdout"
        }
      ]
    }
  ]
}